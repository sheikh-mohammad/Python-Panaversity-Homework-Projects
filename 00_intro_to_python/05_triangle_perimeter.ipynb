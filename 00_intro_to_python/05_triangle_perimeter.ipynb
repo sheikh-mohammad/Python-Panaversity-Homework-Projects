{
 "cells": [
  {
   "cell_type": "markdown",
   "metadata": {
    "id": "h3Js1j-pbZxE"
   },
   "source": [
    "## **Problem Statement**\n",
    "\n",
    "Prompt the user to enter the lengths of each side of a triangle and then calculate and print the perimeter of the triangle (the sum of all of the side lengths).\n",
    "\n",
    "Here's a sample run of the program (user input is in bold italics):\n",
    "\n",
    "What is the length of side 1? 3\n",
    "\n",
    "What is the length of side 2? 4\n",
    "\n",
    "What is the length of side 3? 5.5\n",
    "\n",
    "The perimeter of the triangle is 12.5"
   ]
  },
  {
   "cell_type": "code",
   "execution_count": null,
   "metadata": {
    "colab": {
     "base_uri": "https://localhost:8080/"
    },
    "executionInfo": {
     "elapsed": 3288,
     "status": "ok",
     "timestamp": 1756833753634,
     "user": {
      "displayName": "Sheikh Mohammad Ahmed",
      "userId": "05336294990135873372"
     },
     "user_tz": -300
    },
    "id": "miYIIzwBbBmH",
    "outputId": "ea626192-f40f-496d-e399-67a862a6fcfd"
   },
   "outputs": [
    {
     "name": "stdout",
     "output_type": "stream",
     "text": [
      "This program calculates perimeter of all sides of triangle.\n",
      "\n",
      "What is the length of side 1? 3\n",
      "\n",
      "What is the length of side 2? 4\n",
      "\n",
      "What is the length of side 3? 5.5\n",
      "\n",
      "The perimeter of the triangle is 12.5\n"
     ]
    }
   ],
   "source": [
    "def main():\n",
    "    # Project Name Statement\n",
    "    print(\"This program calculates perimeter of all sides of triangle.\\n\")\n",
    "\n",
    "    # Input Side 1\n",
    "    side_1 : float = float(input(\"What is the length of side 1? \"))\n",
    "\n",
    "    # Input Side 2\n",
    "    side_2 : float = float(input(\"\\nWhat is the length of side 2? \"))\n",
    "\n",
    "    # Input Side 3\n",
    "    side_3 : float = float(input(\"\\nWhat is the length of side 3? \"))\n",
    "\n",
    "    # Calculating Perimeter\n",
    "    perimeter : float = side_1 + side_2 + side_3\n",
    "\n",
    "    # Printing Perimeter\n",
    "    print(f\"\\nThe perimeter of the triangle is {perimeter}\")\n",
    "    \n",
    "if __name__ == '__main__':\n",
    "    main()"
   ]
  }
 ],
 "metadata": {
  "colab": {
   "authorship_tag": "ABX9TyNXQPriFpOGG7zldeBuvavR",
   "provenance": []
  },
  "kernelspec": {
   "display_name": "Python 3",
   "name": "python3"
  },
  "language_info": {
   "name": "python"
  }
 },
 "nbformat": 4,
 "nbformat_minor": 0
}

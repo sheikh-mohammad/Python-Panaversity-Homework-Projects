{
 "cells": [
  {
   "cell_type": "markdown",
   "metadata": {
    "id": "7vZdChk8ehtN"
   },
   "source": [
    "## **Problem Statement**\n",
    "Write a Python program that takes two integer inputs from the user and calculates their sum. The program should perform the following tasks:\n",
    "\n",
    "1. Prompt the user to enter the first number.\n",
    "\n",
    "2. Read the input and convert it to an integer.\n",
    "\n",
    "3. Prompt the user to enter the second number.\n",
    "\n",
    "4. Read the input and convert it to an integer.\n",
    "\n",
    "5. Calculate the sum of the two numbers.\n",
    "\n",
    "6. Print the total sum with an appropriate message.\n",
    "\n",
    "The provided solution demonstrates a working implementation of this problem, where the main() function guides the user through the process of entering two numbers and displays their sum."
   ]
  },
  {
   "cell_type": "code",
   "execution_count": null,
   "metadata": {
    "colab": {
     "base_uri": "https://localhost:8080/"
    },
    "executionInfo": {
     "elapsed": 1490,
     "status": "ok",
     "timestamp": 1756733863633,
     "user": {
      "displayName": "Sheikh Mohammad Ahmed",
      "userId": "05336294990135873372"
     },
     "user_tz": -300
    },
    "id": "PcoptlzadzCn",
    "outputId": "0080a066-2921-4e9e-bd04-d37443ba52ec"
   },
   "outputs": [
    {
     "name": "stdout",
     "output_type": "stream",
     "text": [
      "This program add two numbers\n",
      "\n",
      "Enter First Number: 2\n",
      "Enter Second Number: 3\n",
      "\n",
      "First Number: 2\n",
      "Second Number: 3\n",
      "--------------------\n",
      "Sum of Two Numbers: 5\n"
     ]
    }
   ],
   "source": [
    "def main():\n",
    "    # Project Name Statement\n",
    "    print(\"This program add two numbers\\n\")\n",
    "\n",
    "    # Input first number\n",
    "    first_number : int = int(input(\"Enter First Number: \"))\n",
    "\n",
    "    # Input second number\n",
    "    second_number : int = int(input(\"Enter Second Number: \"))\n",
    "\n",
    "    # Calculating sum of both numbers\n",
    "    sum : int = first_number + second_number\n",
    "\n",
    "    # Printing All Values\n",
    "    print(f\"\\nFirst Number: {first_number}\")\n",
    "    print(f\"Second Number: {second_number}\")\n",
    "    print(\"---------------------\")\n",
    "    print(f\"Sum of Two Numbers: {sum}\")\n",
    "    \n",
    "if __name__ == '__main__':\n",
    "    main()"
   ]
  }
 ],
 "metadata": {
  "colab": {
   "authorship_tag": "ABX9TyPud/woCGqtIBWFtqJhNMAf",
   "provenance": []
  },
  "kernelspec": {
   "display_name": "Python 3",
   "name": "python3"
  },
  "language_info": {
   "name": "python"
  }
 },
 "nbformat": 4,
 "nbformat_minor": 0
}

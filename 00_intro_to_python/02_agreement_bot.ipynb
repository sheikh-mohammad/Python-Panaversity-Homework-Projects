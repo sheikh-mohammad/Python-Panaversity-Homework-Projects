{
 "cells": [
  {
   "cell_type": "markdown",
   "metadata": {
    "id": "C4Y4nEuPxVk-"
   },
   "source": [
    "## **Problem Statement**\n",
    "Write a program which asks the user what their favorite animal is, and then always responds with \"My favorite animal is also ___!\" (the blank should be filled in with the user-inputted animal, of course).\n",
    "\n",
    "Here's a sample run of the program (user input is in bold italics - note the space between the prompt and the user input!):\n",
    "\n",
    "What's your favorite animal? cow\n",
    "\n",
    "My favorite animal is also cow!"
   ]
  },
  {
   "cell_type": "code",
   "execution_count": null,
   "metadata": {
    "colab": {
     "base_uri": "https://localhost:8080/"
    },
    "executionInfo": {
     "elapsed": 2779,
     "status": "ok",
     "timestamp": 1756739037492,
     "user": {
      "displayName": "Sheikh Mohammad Ahmed",
      "userId": "05336294990135873372"
     },
     "user_tz": -300
    },
    "id": "pEMdTzRdxHi-",
    "outputId": "9087e664-72b3-47d7-9b70-97e66af1cb4c"
   },
   "outputs": [
    {
     "name": "stdout",
     "output_type": "stream",
     "text": [
      "This program shows agreement between bot and user\n",
      "\n",
      "What's your favorite animal? cow\n",
      "\n",
      "My favorite animal is also Cow!\n"
     ]
    }
   ],
   "source": [
    "def main():\n",
    "    # Project Name Statement\n",
    "    print(\"This program shows agreement between bot and user\\n\")\n",
    "\n",
    "    # Input the Favourie Animal\n",
    "    favourite_animal : str = input(\"What's your favorite animal? \")\n",
    "\n",
    "    # Agreement Statement\n",
    "    agreement_statement : str = f\"My favorite animal is also {favourite_animal.capitalize()}!\"\n",
    "\n",
    "    # Printing Statements\n",
    "    print(f\"\\n{agreement_statement}\")\n",
    "\n",
    "if __name__ == '__main__':\n",
    "    main()"
   ]
  }
 ],
 "metadata": {
  "colab": {
   "authorship_tag": "ABX9TyNBVMzgbvTDmNCiflIMQlJQ",
   "provenance": []
  },
  "kernelspec": {
   "display_name": "Python 3",
   "name": "python3"
  },
  "language_info": {
   "name": "python"
  }
 },
 "nbformat": 4,
 "nbformat_minor": 0
}

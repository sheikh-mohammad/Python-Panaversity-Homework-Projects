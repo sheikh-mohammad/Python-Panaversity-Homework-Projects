{
 "cells": [
  {
   "cell_type": "markdown",
   "metadata": {
    "id": "5pRI2oihbSfP"
   },
   "source": [
    "## **Problem Statement**\n",
    "Write a program to solve this age-related riddle!\n",
    "\n",
    "Anton, Beth, Chen, Drew, and Ethan are all friends. Their ages are as follows:\n",
    "\n",
    "Anton is 21 years old.\n",
    "\n",
    "Beth is 6 years older than Anton.\n",
    "\n",
    "Chen is 20 years older than Beth.\n",
    "\n",
    "Drew is as old as Chen's age plus Anton's age.\n",
    "\n",
    "Ethan is the same age as Chen.\n",
    "\n",
    "Your code should store each person's age to a variable and print their names and ages at the end. The autograder is sensitive to capitalization and punctuation, be careful! Your solution should look like this (the below numbers are made up -- your solution should have the correct values!):\n",
    "\n",
    "```\n",
    "Anton is 3\n",
    "\n",
    "Beth is 4\n",
    "\n",
    "Chen is 5\n",
    "\n",
    "Drew is 6\n",
    "\n",
    "Ethan is 7\n",
    "```"
   ]
  },
  {
   "cell_type": "code",
   "execution_count": null,
   "metadata": {
    "colab": {
     "base_uri": "https://localhost:8080/"
    },
    "executionInfo": {
     "elapsed": 21,
     "status": "ok",
     "timestamp": 1756833175617,
     "user": {
      "displayName": "Sheikh Mohammad Ahmed",
      "userId": "05336294990135873372"
     },
     "user_tz": -300
    },
    "id": "CSRkSBXcapDn",
    "outputId": "2a6fc164-f3cf-46fb-f44c-a0b8f96974c1"
   },
   "outputs": [
    {
     "name": "stdout",
     "output_type": "stream",
     "text": [
      "This project identifies the age of different personalities; This is a riddle\n",
      "\n",
      "Anton is 21\n",
      "Beth is 27\n",
      "Chen is 47\n",
      "Drew is 68\n",
      "Ethan is 47\n"
     ]
    }
   ],
   "source": [
    "def main():\n",
    "    # Project Name Statement\n",
    "    print(\"This project identifies the age of different personalities; This is a riddle\\n\")\n",
    "\n",
    "    # Storing Ages of Different Persons\n",
    "    anton_age : int = 21\n",
    "    beth_age : int = anton_age + 6\n",
    "    chen_age : int = 20 + beth_age\n",
    "    drew_age : int = chen_age + anton_age\n",
    "    ethan_age : int = chen_age\n",
    "\n",
    "    # Printing Ages\n",
    "    print(f\"Anton is {anton_age}\")\n",
    "    print(f\"Beth is {beth_age}\")\n",
    "    print(f\"Chen is {chen_age}\")\n",
    "    print(f\"Drew is {drew_age}\")\n",
    "    print(f\"Ethan is {ethan_age}\")\n",
    "\n",
    "if __name__ == 'main':\n",
    "    main()"
   ]
  }
 ],
 "metadata": {
  "colab": {
   "authorship_tag": "ABX9TyOo4FKukLB6XijSe0ZKudfF",
   "provenance": []
  },
  "kernelspec": {
   "display_name": "Python 3",
   "name": "python3"
  },
  "language_info": {
   "name": "python"
  }
 },
 "nbformat": 4,
 "nbformat_minor": 0
}

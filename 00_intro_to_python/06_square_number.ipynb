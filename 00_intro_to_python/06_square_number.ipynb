{
 "cells": [
  {
   "cell_type": "markdown",
   "metadata": {
    "id": "mgrVKjKNdVBf"
   },
   "source": [
    "## **Problem Statement**\n",
    "Ask the user for a number and print its square (the product of the number times itself).\n",
    "\n",
    "Here's a sample run of the program (user input is in bold italics):\n",
    "\n",
    "Type a number to see its square: 4\n",
    "\n",
    "4.0 squared is 16.0"
   ]
  },
  {
   "cell_type": "code",
   "execution_count": null,
   "metadata": {
    "colab": {
     "base_uri": "https://localhost:8080/"
    },
    "executionInfo": {
     "elapsed": 4330,
     "status": "ok",
     "timestamp": 1756834123186,
     "user": {
      "displayName": "Sheikh Mohammad Ahmed",
      "userId": "05336294990135873372"
     },
     "user_tz": -300
    },
    "id": "bO0VghZcdRqB",
    "outputId": "bebf2ff6-8a20-4217-e462-4b51764a6c54"
   },
   "outputs": [
    {
     "name": "stdout",
     "output_type": "stream",
     "text": [
      "This project calculates sqaure of any number\n",
      "\n",
      "Type a number to see its square: 4\n",
      "\n",
      "4.0 squared is 16.0\n"
     ]
    }
   ],
   "source": [
    "def main():\n",
    "    # Print Name Statement\n",
    "    print(\"This project calculates sqaure of any number\\n\")\n",
    "\n",
    "    # Input Number\n",
    "    number : float = float(input(\"Type a number to see its square: \"))\n",
    "\n",
    "    # Calculating Square\n",
    "    square : float = number * number\n",
    "\n",
    "    # Printing Square\n",
    "    print(f\"\\n{number} squared is {square}\")\n",
    "\n",
    "if __name__ == \"__main__\":\n",
    "    main()"
   ]
  }
 ],
 "metadata": {
  "colab": {
   "authorship_tag": "ABX9TyM/MnvfbyC7V+A1jnI3FDav",
   "provenance": []
  },
  "kernelspec": {
   "display_name": "Python 3",
   "name": "python3"
  },
  "language_info": {
   "name": "python"
  }
 },
 "nbformat": 4,
 "nbformat_minor": 0
}

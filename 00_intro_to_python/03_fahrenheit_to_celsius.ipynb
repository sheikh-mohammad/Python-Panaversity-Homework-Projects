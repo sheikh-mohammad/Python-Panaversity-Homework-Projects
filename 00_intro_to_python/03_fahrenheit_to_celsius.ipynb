{
 "cells": [
  {
   "cell_type": "markdown",
   "metadata": {
    "id": "Ok369O8wYucd"
   },
   "source": [
    "## **Problem Statement**\n",
    "Write a program which prompts the user for a temperature in Fahrenheit (this can be a number with decimal places!) and outputs the temperature converted to Celsius.\n",
    "\n",
    "The Celsius scale is widely used to measure temperature, but places still use Fahrenheit. Fahrenheit is another unit for temperature, but the scale is different from Celsius -- for example, 0 degrees Celsius is 32 degrees Fahrenheit!\n",
    "\n",
    "The equation you should use for converting from Fahrenheit to Celsius is the following:\n",
    "\n",
    "degrees_celsius = (degrees_fahrenheit - 32) * 5.0/9.0\n",
    "\n",
    "(Note. The .0 after the 5 and 9 matters in the line above!!!)\n",
    "\n",
    "Here's a sample run of the program (user input is in bold italics):\n",
    "\n",
    "Enter temperature in Fahrenheit: 76\n",
    "\n",
    "Temperature: 76.0F = 24.444444444444443C"
   ]
  },
  {
   "cell_type": "code",
   "execution_count": null,
   "metadata": {
    "colab": {
     "base_uri": "https://localhost:8080/"
    },
    "executionInfo": {
     "elapsed": 1593,
     "status": "ok",
     "timestamp": 1756749109780,
     "user": {
      "displayName": "Sheikh Mohammad Ahmed",
      "userId": "05336294990135873372"
     },
     "user_tz": -300
    },
    "id": "ru_vbgL5TkFk",
    "outputId": "f92316c1-b196-4dbb-dc41-89a1e82e35fd"
   },
   "outputs": [
    {
     "name": "stdout",
     "output_type": "stream",
     "text": [
      "This program converts fahrehheit into celsius\n",
      "\n",
      "Enter Temperature in Fahrenheit: 32\n",
      "\n",
      "Temperature: 32.0 = 0.0 C\n"
     ]
    }
   ],
   "source": [
    "def main():\n",
    "    # Project Name Statement\n",
    "    print(\"This program converts fahrehheit into celsius\\n\")\n",
    "\n",
    "    # Input Fahrenheit\n",
    "    degrees_fahrenheit = float(input(\"Enter Temperature in Fahrenheit: \"))\n",
    "\n",
    "    # Calculating Celsius\n",
    "    degrees_celsius = (degrees_fahrenheit - 32) * 5.0/9.0\n",
    "\n",
    "    # Printing Output\n",
    "    print(f\"\\nTemperature: {degrees_fahrenheit} = {degrees_celsius} C\")\n",
    "\n",
    "if __name__ == '__main__':\n",
    "    main()"
   ]
  }
 ],
 "metadata": {
  "colab": {
   "authorship_tag": "ABX9TyPIlCL5amjy8D/57GEmZPhE",
   "provenance": []
  },
  "kernelspec": {
   "display_name": "Python 3",
   "name": "python3"
  },
  "language_info": {
   "name": "python"
  }
 },
 "nbformat": 4,
 "nbformat_minor": 0
}
